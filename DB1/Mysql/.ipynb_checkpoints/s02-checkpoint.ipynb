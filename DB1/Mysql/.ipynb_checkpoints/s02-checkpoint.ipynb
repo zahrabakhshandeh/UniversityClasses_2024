{
 "cells": [
  {
   "cell_type": "code",
   "execution_count": 19,
   "metadata": {},
   "outputs": [],
   "source": [
    "import mysql.connector"
   ]
  },
  {
   "cell_type": "code",
   "execution_count": 20,
   "metadata": {},
   "outputs": [],
   "source": [
    "mydb = mysql.connector.connect(\n",
    "    host = \"localhost\",\n",
    "    user = \"root\",\n",
    "    password = \"pass\"\n",
    ")"
   ]
  },
  {
   "cell_type": "code",
   "execution_count": 21,
   "metadata": {},
   "outputs": [],
   "source": [
    "mycursor = mydb.cursor()"
   ]
  },
  {
   "cell_type": "markdown",
   "metadata": {},
   "source": [
    "#### create database"
   ]
  },
  {
   "cell_type": "code",
   "execution_count": 27,
   "metadata": {},
   "outputs": [
    {
     "name": "stdout",
     "output_type": "stream",
     "text": [
      "1007 (HY000): Can't create database 'DBblog'; database exists\n",
      "end\n"
     ]
    }
   ],
   "source": [
    "sql = \"CREATE DATABASE DBblog\"\n",
    "try:\n",
    "    mycursor.execute(sql)\n",
    "except Exception as e1:\n",
    "    print(e1)\n",
    "print(\"end\")"
   ]
  },
  {
   "cell_type": "markdown",
   "metadata": {},
   "source": [
    "#### Connect to database"
   ]
  },
  {
   "cell_type": "code",
   "execution_count": 28,
   "metadata": {},
   "outputs": [],
   "source": [
    "mydb = mysql.connector.connect(\n",
    "    host = \"localhost\",\n",
    "    user = \"root\",\n",
    "    password = \"pass\",\n",
    "    database = \"DBblog\"\n",
    ")"
   ]
  },
  {
   "cell_type": "code",
   "execution_count": 29,
   "metadata": {},
   "outputs": [],
   "source": [
    "mycursor = mydb.cursor()"
   ]
  },
  {
   "cell_type": "markdown",
   "metadata": {},
   "source": [
    "#### Create Table"
   ]
  },
  {
   "cell_type": "code",
   "execution_count": 32,
   "metadata": {},
   "outputs": [],
   "source": [
    "sql = \"\"\"\n",
    "        CREATE TABLE posts(\n",
    "            p_id INT,\n",
    "            content TEXT NOT NULL,\n",
    "            title VARCHAR(255),\n",
    "            category VARCHAR(255),\n",
    "            PRIMARY KEY(p_id)\n",
    "        )\n",
    "      \"\"\"\n",
    "try:\n",
    "  mycursor.execute(sql)\n",
    "except Exception as e:\n",
    "  pass"
   ]
  },
  {
   "cell_type": "markdown",
   "metadata": {},
   "source": [
    "#### Insert data"
   ]
  },
  {
   "cell_type": "code",
   "execution_count": 40,
   "metadata": {},
   "outputs": [
    {
     "name": "stdout",
     "output_type": "stream",
     "text": [
      "1062 (23000): Duplicate entry '1' for key 'posts.PRIMARY'\n"
     ]
    },
    {
     "data": {
      "text/plain": [
       "'finally:\\n      mydb.close()\\n      mycursor.close()'"
      ]
     },
     "execution_count": 40,
     "metadata": {},
     "output_type": "execute_result"
    }
   ],
   "source": [
    "sql = \"\"\"INSERT INTO posts \n",
    "      (p_id,content,category)VALUES \n",
    "      (1, 'CONTENT1', 'C1')\"\"\"\n",
    "try:\n",
    "      mycursor.execute(sql)\n",
    "except Exception as e:\n",
    "      print(e)\n",
    "else:\n",
    "      mydb.commit()\n",
    "\"\"\"finally:\n",
    "      mydb.close()\n",
    "      mycursor.close()\"\"\""
   ]
  },
  {
   "cell_type": "code",
   "execution_count": 16,
   "metadata": {},
   "outputs": [],
   "source": [
    "sql = \"\"\"INSERT INTO posts \n",
    "      (p_id,content,category)VALUES \n",
    "      (%s, %s, %s)\"\"\"\n",
    "p_id = int(input(\"p_id: \")) # 2\n",
    "content = input(f\"countent of {p_id}: \") # content of 2\n",
    "category =  input(f\"category of {p_id}: \")"
   ]
  },
  {
   "cell_type": "code",
   "execution_count": 17,
   "metadata": {},
   "outputs": [],
   "source": [
    "data = (p_id, content, category)\n",
    "mycursor.execute(sql, data)"
   ]
  },
  {
   "cell_type": "code",
   "execution_count": 18,
   "metadata": {},
   "outputs": [],
   "source": [
    "mydb.commit()"
   ]
  },
  {
   "cell_type": "markdown",
   "metadata": {},
   "source": [
    "### Select"
   ]
  },
  {
   "cell_type": "code",
   "execution_count": 11,
   "metadata": {},
   "outputs": [],
   "source": [
    "sql = \"SELECT * FROM posts\"\n",
    "mycursor.execute(sql)"
   ]
  },
  {
   "cell_type": "code",
   "execution_count": 12,
   "metadata": {},
   "outputs": [
    {
     "name": "stdout",
     "output_type": "stream",
     "text": [
      "[(1, 'CONTENT1', None, 'C1')]\n"
     ]
    }
   ],
   "source": [
    "result = mycursor.fetchall()\n",
    "print(result)"
   ]
  },
  {
   "cell_type": "code",
   "execution_count": null,
   "metadata": {},
   "outputs": [],
   "source": []
  },
  {
   "cell_type": "code",
   "execution_count": 39,
   "metadata": {},
   "outputs": [
    {
     "name": "stdout",
     "output_type": "stream",
     "text": [
      "Error\n",
      "finally\n"
     ]
    }
   ],
   "source": [
    "x = 12\n",
    "y = 0\n",
    "try:\n",
    "    open()\n",
    "    write()\n",
    "except:\n",
    "    print(\"Error\")\n",
    "else:\n",
    "    print(re)\n",
    "finally:\n",
    "    mydb.close()"
   ]
  }
 ],
 "metadata": {
  "kernelspec": {
   "display_name": "Python 3 (ipykernel)",
   "language": "python",
   "name": "python3"
  },
  "language_info": {
   "codemirror_mode": {
    "name": "ipython",
    "version": 3
   },
   "file_extension": ".py",
   "mimetype": "text/x-python",
   "name": "python",
   "nbconvert_exporter": "python",
   "pygments_lexer": "ipython3",
   "version": "3.10.12"
  }
 },
 "nbformat": 4,
 "nbformat_minor": 2
}

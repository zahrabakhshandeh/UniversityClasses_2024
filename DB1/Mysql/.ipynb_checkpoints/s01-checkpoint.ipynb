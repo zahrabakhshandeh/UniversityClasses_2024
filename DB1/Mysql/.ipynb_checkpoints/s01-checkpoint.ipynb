{
 "cells": [
  {
   "cell_type": "code",
   "execution_count": 1,
   "metadata": {},
   "outputs": [],
   "source": [
    "import mysql.connector"
   ]
  },
  {
   "cell_type": "code",
   "execution_count": 2,
   "metadata": {},
   "outputs": [],
   "source": [
    "mydb = mysql.connector.connect(\n",
    "    host=\"localhost\",\n",
    "    user=\"root\",\n",
    "    password=\"pass\"\n",
    ")"
   ]
  },
  {
   "cell_type": "code",
   "execution_count": 3,
   "metadata": {},
   "outputs": [],
   "source": [
    "cursor1 = mydb.cursor()"
   ]
  },
  {
   "cell_type": "code",
   "execution_count": 4,
   "metadata": {},
   "outputs": [],
   "source": [
    "query = \"CREATE DATABASE db_class2\"\n",
    "cursor1.execute(query)"
   ]
  },
  {
   "cell_type": "code",
   "execution_count": 5,
   "metadata": {},
   "outputs": [],
   "source": [
    "query = \"SHOW DATABASES\"\n",
    "cursor1.execute(query)"
   ]
  },
  {
   "cell_type": "code",
   "execution_count": 6,
   "metadata": {},
   "outputs": [
    {
     "name": "stdout",
     "output_type": "stream",
     "text": [
      "[('A',), ('Company',), ('GHJKKLK',), ('None',), ('OnlineShop',), ('OnlineShop1',), ('OnlineShop2',), ('OnlineShop20',), ('OnlineShop3',), ('Online_Shop',), ('Shop',), ('Shop8',), ('Shop_Online',), ('Shop_db',), ('UNIVER_1',), ('University',), ('a',), ('b1',), ('company',), ('database1',), ('db_class2',), ('db_online_shop',), ('fa_university1',), ('image_gallery',), ('image_gallery1',), ('img_gallery',), ('information_schema',), ('library_db',), ('mydatabase',), ('mysql',), ('new_shop',), ('online_shop',), ('p_online_shop',), ('performance_schema',), ('phone_book',), ('python1',), ('python_t',), ('shop_2',), ('studentData',), ('sys',), ('test',), ('u',), ('university',), ('upmarket',), ('weblogDB',)]\n"
     ]
    }
   ],
   "source": [
    "data = cursor1.fetchall()\n",
    "print(data)"
   ]
  },
  {
   "cell_type": "code",
   "execution_count": 7,
   "metadata": {},
   "outputs": [
    {
     "name": "stdout",
     "output_type": "stream",
     "text": [
      "yes\n"
     ]
    }
   ],
   "source": [
    "if (\"db_class2\",) in data:\n",
    "    print(\"yes\")"
   ]
  },
  {
   "cell_type": "code",
   "execution_count": 8,
   "metadata": {},
   "outputs": [],
   "source": [
    "mydb = mysql.connector.connect(\n",
    "    host=\"localhost\",\n",
    "    user=\"root\",\n",
    "    password=\"pass\",\n",
    "    database = \"db_class2\"\n",
    ")"
   ]
  },
  {
   "cell_type": "code",
   "execution_count": 9,
   "metadata": {},
   "outputs": [],
   "source": [
    "cursor2 = mydb.cursor()"
   ]
  },
  {
   "cell_type": "code",
   "execution_count": 10,
   "metadata": {},
   "outputs": [],
   "source": [
    "sql = \"\"\"\n",
    "        CREATE TABLE Users(\n",
    "        user_id int NOT NULL,\n",
    "        first_name varchar(255),\n",
    "        last_name varchar(255) NOT NULL,\n",
    "        age int,\n",
    "        PRIMARY KEY (user_id)\n",
    "        );\n",
    "    \"\"\""
   ]
  },
  {
   "cell_type": "code",
   "execution_count": 11,
   "metadata": {},
   "outputs": [],
   "source": [
    "cursor2.execute(sql)"
   ]
  },
  {
   "cell_type": "code",
   "execution_count": null,
   "metadata": {},
   "outputs": [],
   "source": []
  }
 ],
 "metadata": {
  "kernelspec": {
   "display_name": "Python 3 (ipykernel)",
   "language": "python",
   "name": "python3"
  },
  "language_info": {
   "codemirror_mode": {
    "name": "ipython",
    "version": 3
   },
   "file_extension": ".py",
   "mimetype": "text/x-python",
   "name": "python",
   "nbconvert_exporter": "python",
   "pygments_lexer": "ipython3",
   "version": "3.10.12"
  }
 },
 "nbformat": 4,
 "nbformat_minor": 2
}
